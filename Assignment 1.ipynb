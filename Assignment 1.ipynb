{
 "cells": [
  {
   "cell_type": "code",
   "execution_count": 2,
   "metadata": {},
   "outputs": [
    {
     "name": "stdout",
     "output_type": "stream",
     "text": [
      "Enter first name: Vivek\n",
      "Enter last name: Kumar\n",
      "Kumar Vivek\n"
     ]
    }
   ],
   "source": [
    "'''Q2: Write a Python program to accept the user's first and last name and then getting them printed in\n",
    "the the reverse order with a space between first name and last name.'''\n",
    "\n",
    "firstName = input('Enter first name: ')\n",
    "lastName = input('Enter last name: ')\n",
    "name = lastName+\" \"+firstName\n",
    "print(name)"
   ]
  },
  {
   "cell_type": "code",
   "execution_count": 3,
   "metadata": {},
   "outputs": [
    {
     "name": "stdout",
     "output_type": "stream",
     "text": [
      "Enter diameter of sphere(in cm): 5\n",
      "65.47619047619047\n"
     ]
    }
   ],
   "source": [
    "'''Q3: Write a Python program to find the volume of a sphere with diameter 12 cm.\n",
    "Formula: V=4/3 * π * r'''\n",
    "\n",
    "\n",
    "diameter = input('Enter diameter of sphere(in cm): ')\n",
    "if len(diameter) < 1: diameter = 12\n",
    "try:\n",
    "    d = float(diameter)\n",
    "    radius = d / 2\n",
    "    vol = 4 / 3 * ((22 / 7) * radius ** 3)\n",
    "    print(vol)\n",
    "except:\n",
    "    print('Please enter a valid number!!!')"
   ]
  },
  {
   "cell_type": "code",
   "execution_count": 4,
   "metadata": {},
   "outputs": [
    {
     "name": "stdout",
     "output_type": "stream",
     "text": [
      "Please enter comma separated numbers to create list: 1,2,3,4,5,6,7,8,\n",
      "['1', '2', '3', '4', '5', '6', '7', '8', '']\n"
     ]
    }
   ],
   "source": [
    "'''Q4: Write a program which accepts a sequence of comma-separated numbers from console and\n",
    "generate a list.\n",
    "'''\n",
    "\n",
    "value = input('Please enter comma separated numbers to create list: ')\n",
    "Datalist = value.split(\",\")\n",
    "print(Datalist)"
   ]
  },
  {
   "cell_type": "code",
   "execution_count": 5,
   "metadata": {},
   "outputs": [
    {
     "name": "stdout",
     "output_type": "stream",
     "text": [
      "Program to print start pattern: \n",
      "\n",
      "* \r\n",
      "* * \r\n",
      "* * * \r\n",
      "* * * * \r\n",
      "* * * * * \r\n",
      "* * * * \r\n",
      "* * * \r\n",
      "* * \r\n",
      "* \r\n",
      "\r\n"
     ]
    }
   ],
   "source": [
    "'''Q5: Create the below pattern using nested for loop in Python.\n",
    "*\n",
    "* *\n",
    "* * *\n",
    "* * * *\n",
    "* * * * *\n",
    "* * * *\n",
    "* * *\n",
    "* *\n",
    "*'''\n",
    "\n",
    "print(\"Program to print start pattern: \\n\");\n",
    "\n",
    "#rows = input(\"Enter max star to be display on single line\")\n",
    "rows = 5\n",
    "for i in range (0, rows):\n",
    "    for j in range(0, i + 1):\n",
    "        print(\"*\", end=' ')\n",
    "    print(\"\\r\")\n",
    "\n",
    "for i in range (rows, 0, -1):\n",
    "    for j in range(0, i -1):\n",
    "        print(\"*\", end=' ')\n",
    "    print(\"\\r\")"
   ]
  },
  {
   "cell_type": "code",
   "execution_count": 8,
   "metadata": {},
   "outputs": [
    {
     "name": "stdout",
     "output_type": "stream",
     "text": [
      "Please enter a word to be reversed: 1221\n",
      "1221\n"
     ]
    }
   ],
   "source": [
    "'''Q6: Write a Python program to reverse a word after accepting the input from the user.\n",
    "Sample Output:\n",
    "Input word: AcadGild\n",
    "Output: dilGdacA'''\n",
    "\n",
    "word = input('Please enter a word to be reversed: ')\n",
    "revWord = word[::-1]\n",
    "print(revWord)"
   ]
  },
  {
   "cell_type": "code",
   "execution_count": 7,
   "metadata": {},
   "outputs": [
    {
     "name": "stdout",
     "output_type": "stream",
     "text": [
      "WE, THE PEOPLE OF INDIA,\n",
      "      having solemnly resolved to constitute India into a SOVEREIGN, !\n",
      "            SOCIALIST, SECULAR, DEMOCRATIC REPUBLIC\n",
      "             and to secure to all its citizens\n"
     ]
    }
   ],
   "source": [
    "'''Q7: Write a Python Program to print the given string in the format specified in the sample output.\n",
    "WE, THE PEOPLE OF INDIA, having solemnly resolved to constitute India into a\n",
    "SOVEREIGN, SOCIALIST, SECULAR, DEMOCRATIC REPUBLIC and to secure to all\n",
    "its citizens\n",
    "Sample Output:\n",
    "WE, THE PEOPLE OF INDIA,\n",
    "     having solemnly resolved to constitute India into a SOVEREIGN, !\n",
    "           SOCIALIST, SECULAR, DEMOCRATIC REPUBLIC\n",
    "            and to secure to all its citizens'''\n",
    "\n",
    "print(\"WE, THE PEOPLE OF INDIA,\")\n",
    "print(\"{}having solemnly resolved to constitute India into a SOVEREIGN, !\".format(\"      \"))\n",
    "print(\"{}SOCIALIST, SECULAR, DEMOCRATIC REPUBLIC\".format(\"            \"))\n",
    "print(\"{}and to secure to all its citizens\".format(\"             \"))"
   ]
  },
  {
   "cell_type": "code",
   "execution_count": null,
   "metadata": {},
   "outputs": [],
   "source": []
  }
 ],
 "metadata": {
  "kernelspec": {
   "display_name": "Python 3",
   "language": "python",
   "name": "python3"
  },
  "language_info": {
   "codemirror_mode": {
    "name": "ipython",
    "version": 3
   },
   "file_extension": ".py",
   "mimetype": "text/x-python",
   "name": "python",
   "nbconvert_exporter": "python",
   "pygments_lexer": "ipython3",
   "version": "3.7.3"
  }
 },
 "nbformat": 4,
 "nbformat_minor": 2
}
